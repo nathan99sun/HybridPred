{
 "cells": [
  {
   "cell_type": "code",
   "execution_count": 32,
   "metadata": {
    "collapsed": true
   },
   "outputs": [],
   "source": [
    "import numpy as np\n",
    "import matplotlib.pyplot as plt\n",
    "from scipy.interpolate import UnivariateSpline\n",
    "import pickle"
   ]
  },
  {
   "cell_type": "markdown",
   "metadata": {},
   "source": [
    "## Load and combine raw data from all three batches"
   ]
  },
  {
   "cell_type": "code",
   "execution_count": 5,
   "metadata": {},
   "outputs": [],
   "source": [
    "batch1 = pickle.load(open(r'.\\Data\\batch1.pkl', 'rb'))\n",
    "#remove batteries that do not reach 80% capacity\n",
    "del batch1['b1c8']\n",
    "del batch1['b1c10']\n",
    "del batch1['b1c12']\n",
    "del batch1['b1c13']\n",
    "del batch1['b1c22']"
   ]
  },
  {
   "cell_type": "code",
   "execution_count": 6,
   "metadata": {},
   "outputs": [
    {
     "data": {
      "text/plain": [
       "41"
      ]
     },
     "execution_count": 6,
     "metadata": {},
     "output_type": "execute_result"
    }
   ],
   "source": [
    "numBat1 = len(batch1.keys())\n",
    "numBat1"
   ]
  },
  {
   "cell_type": "code",
   "execution_count": 7,
   "metadata": {},
   "outputs": [],
   "source": [
    "batch2 = pickle.load(open(r'.\\Data\\batch2.pkl','rb'))"
   ]
  },
  {
   "cell_type": "code",
   "execution_count": 8,
   "metadata": {
    "collapsed": true
   },
   "outputs": [],
   "source": [
    "# There are four cells from batch1 that carried into batch2, we'll remove the data from batch2\n",
    "# and put it with the correct cell from batch1\n",
    "batch2_keys = ['b2c7', 'b2c8', 'b2c9', 'b2c15', 'b2c16']\n",
    "batch1_keys = ['b1c0', 'b1c1', 'b1c2', 'b1c3', 'b1c4']\n",
    "add_len = [662, 981, 1060, 208, 482];"
   ]
  },
  {
   "cell_type": "code",
   "execution_count": 9,
   "metadata": {},
   "outputs": [],
   "source": [
    "for i, bk in enumerate(batch1_keys):\n",
    "    batch1[bk]['cycle_life'] = batch1[bk]['cycle_life'] + add_len[i]\n",
    "    for j in batch1[bk]['summary'].keys():\n",
    "        if j == 'cycle':\n",
    "            batch1[bk]['summary'][j] = np.hstack((batch1[bk]['summary'][j], batch2[batch2_keys[i]]['summary'][j] + len(batch1[bk]['summary'][j])))\n",
    "        else:\n",
    "            batch1[bk]['summary'][j] = np.hstack((batch1[bk]['summary'][j], batch2[batch2_keys[i]]['summary'][j]))\n",
    "    last_cycle = len(batch1[bk]['cycles'].keys())\n",
    "    for j, jk in enumerate(batch2[batch2_keys[i]]['cycles'].keys()):\n",
    "        batch1[bk]['cycles'][str(last_cycle + j)] = batch2[batch2_keys[i]]['cycles'][jk]"
   ]
  },
  {
   "cell_type": "code",
   "execution_count": 10,
   "metadata": {
    "collapsed": true
   },
   "outputs": [],
   "source": [
    "del batch2['b2c7']\n",
    "del batch2['b2c8']\n",
    "del batch2['b2c9']\n",
    "del batch2['b2c15']\n",
    "del batch2['b2c16']"
   ]
  },
  {
   "cell_type": "code",
   "execution_count": 11,
   "metadata": {},
   "outputs": [
    {
     "data": {
      "text/plain": [
       "43"
      ]
     },
     "execution_count": 11,
     "metadata": {},
     "output_type": "execute_result"
    }
   ],
   "source": [
    "numBat2 = len(batch2.keys())\n",
    "numBat2"
   ]
  },
  {
   "cell_type": "code",
   "execution_count": 12,
   "metadata": {
    "collapsed": true
   },
   "outputs": [],
   "source": [
    "batch3 = pickle.load(open(r'.\\Data\\batch3.pkl','rb'))\n",
    "# remove noisy channels from batch3\n",
    "del batch3['b3c37']\n",
    "del batch3['b3c2']\n",
    "del batch3['b3c23']\n",
    "del batch3['b3c32']\n",
    "del batch3['b3c42']\n",
    "del batch3['b3c43']"
   ]
  },
  {
   "cell_type": "code",
   "execution_count": 13,
   "metadata": {},
   "outputs": [
    {
     "data": {
      "text/plain": [
       "40"
      ]
     },
     "execution_count": 13,
     "metadata": {},
     "output_type": "execute_result"
    }
   ],
   "source": [
    "numBat3 = len(batch3.keys())\n",
    "numBat3"
   ]
  },
  {
   "cell_type": "code",
   "execution_count": 14,
   "metadata": {},
   "outputs": [
    {
     "data": {
      "text/plain": [
       "124"
      ]
     },
     "execution_count": 14,
     "metadata": {},
     "output_type": "execute_result"
    }
   ],
   "source": [
    "numBat = numBat1 + numBat2 + numBat3\n",
    "numBat"
   ]
  },
  {
   "cell_type": "code",
   "execution_count": 15,
   "metadata": {
    "collapsed": true
   },
   "outputs": [],
   "source": [
    "bat_dict = {**batch1, **batch2, **batch3}"
   ]
  },
  {
   "cell_type": "markdown",
   "metadata": {},
   "source": [
    "## Calculate variance feature"
   ]
  },
  {
   "cell_type": "code",
   "execution_count": 24,
   "metadata": {},
   "outputs": [],
   "source": [
    "def crop_data(id,cycle):\n",
    "    # isolate discharging data\n",
    "    cropped = np.array([[Q, V] for Q, V in zip(bat_dict[id][\"cycles\"][cycle][\"Qd\"], bat_dict[id][\"cycles\"][cycle][\"V\"]) if Q > 1e-5])\n",
    "    for i, datapoint in enumerate(cropped):\n",
    "        if datapoint[1] < cropped[i+1, 1]:\n",
    "            if datapoint[1] < 2.2: # identify where discharging ends\n",
    "                end = i+1\n",
    "                break\n",
    "            else: # this is an anomalous increase in voltage; remove so voltage is decreasing\n",
    "                cropped[i+1, 1] = cropped[i, 1]\n",
    "    cropped = cropped[:end]    \n",
    "    x = np.flip(cropped[:, 1])\n",
    "    y = np.flip(cropped[:, 0])\n",
    "    return x,y"
   ]
  },
  {
   "cell_type": "code",
   "execution_count": 18,
   "metadata": {},
   "outputs": [],
   "source": [
    "def get_var(id):\n",
    "    x_100,y_100 = crop_data(id,\"100\")\n",
    "    x_10,y_10 = crop_data(id,\"10\")\n",
    "    xs = np.linspace(2,3.5,1000)\n",
    "    cs_100 = UnivariateSpline(x_100,y_100,s=0.001)\n",
    "    cs_10 = UnivariateSpline(x_10,y_10,s=0.001)\n",
    "    return np.log10(np.var(cs_100(xs) - cs_10(xs)))"
   ]
  },
  {
   "cell_type": "code",
   "execution_count": 25,
   "metadata": {},
   "outputs": [],
   "source": [
    "var_dict = []\n",
    "for id in bat_dict.keys():\n",
    "    var_dict.append([get_var(id),np.log10(bat_dict[id][\"cycle_life\"])[0][0]])\n",
    "var_dict = np.array(var_dict)"
   ]
  },
  {
   "cell_type": "code",
   "execution_count": 26,
   "metadata": {},
   "outputs": [
    {
     "data": {
      "text/plain": [
       "<matplotlib.collections.PathCollection at 0x19b45f5fd30>"
      ]
     },
     "execution_count": 26,
     "metadata": {},
     "output_type": "execute_result"
    },
    {
     "data": {
      "image/png": "[encoded data removed]",
      "text/plain": [
       "<Figure size 640x480 with 1 Axes>"
      ]
     },
     "metadata": {},
     "output_type": "display_data"
    }
   ],
   "source": [
    "plt.scatter(var_dict[:,0],var_dict[:,1])\n",
    "#plt.xlim(left=-6,right=-2)\n",
    "#plt.ylim(top=3.5,bottom=2)"
   ]
  },
  {
   "cell_type": "code",
   "execution_count": 27,
   "metadata": {},
   "outputs": [
    {
     "data": {
      "text/plain": [
       "SignificanceResult(statistic=-0.8764323593903243, pvalue=1.5617035163309112e-40)"
      ]
     },
     "execution_count": 27,
     "metadata": {},
     "output_type": "execute_result"
    }
   ],
   "source": [
    "import scipy\n",
    "scipy.stats.spearmanr(var_dict[:,0],var_dict[:,1])"
   ]
  },
  {
   "cell_type": "code",
   "execution_count": 29,
   "metadata": {},
   "outputs": [],
   "source": [
    "with open('./Data/vardQ.pkl','wb') as fp:\n",
    "        pickle.dump(var_dict,fp)"
   ]
  },
  {
   "cell_type": "code",
   "execution_count": 33,
   "metadata": {},
   "outputs": [],
   "source": [
    "np.savetxt('./Data/vardQ.csv',var_dict,delimiter=',')"
   ]
  },
  {
   "cell_type": "markdown",
   "metadata": {},
   "source": [
    "## To load data from csv"
   ]
  },
  {
   "cell_type": "markdown",
   "metadata": {},
   "source": [
    "Each row takes form [log10(variance), log10(cycle lifetime)]"
   ]
  },
  {
   "cell_type": "code",
   "execution_count": 35,
   "metadata": {},
   "outputs": [
    {
     "data": {
      "text/plain": [
       "array([[-4.84,  3.27],\n",
       "       [-4.99,  3.33],\n",
       "       [-4.81,  3.35],\n",
       "       [-4.37,  3.16],\n",
       "       [-4.53,  3.23],\n",
       "       [-4.14,  3.03],\n",
       "       [-3.76,  2.8 ],\n",
       "       [-3.81,  2.94],\n",
       "       [-3.95,  3.02],\n",
       "       [-4.09,  2.9 ],\n",
       "       [-4.06,  2.94],\n",
       "       [-3.95,  2.86],\n",
       "       [-4.07,  2.94],\n",
       "       [-3.97,  2.93],\n",
       "       [-3.68,  2.84],\n",
       "       [-3.62,  2.9 ],\n",
       "       [-3.36,  2.73],\n",
       "       [-3.34,  2.75],\n",
       "       [-4.02,  3.01],\n",
       "       [-3.92,  3.01],\n",
       "       [-3.99,  2.93],\n",
       "       [-3.78,  2.94],\n",
       "       [-3.82,  2.93],\n",
       "       [-3.83,  2.93],\n",
       "       [-3.83,  2.96],\n",
       "       [-3.75,  2.85],\n",
       "       [-3.77,  2.94],\n",
       "       [-3.65,  2.86],\n",
       "       [-3.65,  2.88],\n",
       "       [-3.82,  2.87],\n",
       "       [-3.75,  2.85],\n",
       "       [-3.65,  2.85],\n",
       "       [-3.65,  2.81],\n",
       "       [-3.45,  2.79],\n",
       "       [-3.5 ,  2.8 ],\n",
       "       [-4.07,  2.98],\n",
       "       [-4.1 ,  3.02],\n",
       "       [-3.65,  2.85],\n",
       "       [-3.67,  2.81],\n",
       "       [-3.43,  2.79],\n",
       "       [-3.42,  2.78],\n",
       "       [-2.78,  2.48],\n",
       "       [-2.74,  2.17],\n",
       "       [-3.7 ,  2.64],\n",
       "       [-2.9 ,  2.53],\n",
       "       [-3.44,  2.65],\n",
       "       [-3.58,  2.68],\n",
       "       [-3.29,  2.71],\n",
       "       [-3.6 ,  2.75],\n",
       "       [-3.6 ,  2.68],\n",
       "       [-3.36,  2.66],\n",
       "       [-3.24,  2.68],\n",
       "       [-3.48,  2.69],\n",
       "       [-3.48,  2.69],\n",
       "       [-3.73,  2.69],\n",
       "       [-3.36,  2.66],\n",
       "       [-3.58,  2.7 ],\n",
       "       [-3.35,  2.69],\n",
       "       [-3.57,  2.71],\n",
       "       [-3.44,  2.72],\n",
       "       [-3.77,  2.69],\n",
       "       [-3.59,  2.66],\n",
       "       [-3.56,  2.67],\n",
       "       [-3.74,  2.67],\n",
       "       [-3.79,  2.71],\n",
       "       [-3.64,  2.7 ],\n",
       "       [-3.74,  2.68],\n",
       "       [-3.73,  2.69],\n",
       "       [-3.67,  2.72],\n",
       "       [-3.6 ,  2.72],\n",
       "       [-3.77,  2.7 ],\n",
       "       [-3.47,  2.67],\n",
       "       [-3.49,  2.73],\n",
       "       [-3.5 ,  2.68],\n",
       "       [-3.57,  2.67],\n",
       "       [-3.45,  2.66],\n",
       "       [-3.53,  2.7 ],\n",
       "       [-3.68,  2.63],\n",
       "       [-3.53,  2.67],\n",
       "       [-3.33,  2.66],\n",
       "       [-3.44,  2.66],\n",
       "       [-3.57,  2.69],\n",
       "       [-3.35,  2.63],\n",
       "       [-4.06,  2.85],\n",
       "       [-4.24,  3.  ],\n",
       "       [-4.2 ,  3.03],\n",
       "       [-4.09,  3.05],\n",
       "       [-4.16,  3.02],\n",
       "       [-4.08,  2.92],\n",
       "       [-3.52,  2.82],\n",
       "       [-4.41,  3.26],\n",
       "       [-4.11,  2.92],\n",
       "       [-3.98,  3.02],\n",
       "       [-4.41,  3.03],\n",
       "       [-3.9 ,  2.91],\n",
       "       [-3.95,  2.97],\n",
       "       [-4.1 ,  2.91],\n",
       "       [-4.02,  2.93],\n",
       "       [-3.99,  2.94],\n",
       "       [-4.6 ,  3.21],\n",
       "       [-4.42,  3.12],\n",
       "       [-4.21,  3.06],\n",
       "       [-4.1 ,  3.06],\n",
       "       [-4.09,  2.91],\n",
       "       [-3.69,  2.89],\n",
       "       [-4.03,  3.  ],\n",
       "       [-4.11,  2.92],\n",
       "       [-4.09,  3.  ],\n",
       "       [-4.19,  3.01],\n",
       "       [-4.07,  2.93],\n",
       "       [-3.44,  2.73],\n",
       "       [-4.03,  2.93],\n",
       "       [-4.12,  2.97],\n",
       "       [-3.8 ,  2.86],\n",
       "       [-4.35,  3.11],\n",
       "       [-4.24,  3.06],\n",
       "       [-4.2 ,  3.04],\n",
       "       [-4.23,  2.97],\n",
       "       [-4.34,  3.29],\n",
       "       [-4.45,  3.06],\n",
       "       [-4.32,  2.9 ],\n",
       "       [-4.21,  2.9 ],\n",
       "       [-4.11,  2.97],\n",
       "       [-4.44,  3.26]])"
      ]
     },
     "execution_count": 35,
     "metadata": {},
     "output_type": "execute_result"
    }
   ],
   "source": [
    "np.loadtxt('./Data/vardQ.csv',delimiter=',',skiprows=1) # skip row for column names"
   ]
  },
  {
   "cell_type": "markdown",
   "metadata": {},
   "source": [
    "## Train and Test Split\n",
    "If you are interested in using the same train/test split as the paper, use the indices specified below"
   ]
  },
  {
   "cell_type": "code",
   "execution_count": null,
   "metadata": {},
   "outputs": [],
   "source": [
    "test_ind = np.hstack((np.arange(0,(numBat1+numBat2),2),83))\n",
    "train_ind = np.arange(1,(numBat1+numBat2-1),2)\n",
    "secondary_test_ind = np.arange(numBat-numBat3,numBat);"
   ]
  }
 ],
 "metadata": {
  "kernelspec": {
   "display_name": "Python 3",
   "language": "python",
   "name": "python3"
  },
  "language_info": {
   "codemirror_mode": {
    "name": "ipython",
    "version": 3
   },
   "file_extension": ".py",
   "mimetype": "text/x-python",
   "name": "python",
   "nbconvert_exporter": "python",
   "pygments_lexer": "ipython3",
   "version": "3.8.8"
  }
 },
 "nbformat": 4,
 "nbformat_minor": 2
}
