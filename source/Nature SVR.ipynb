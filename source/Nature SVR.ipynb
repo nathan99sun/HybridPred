{
 "cells": [
  {
   "cell_type": "code",
   "execution_count": 32,
   "id": "75d7b175",
   "metadata": {},
   "outputs": [],
   "source": [
    "from sklearn.svm import SVR\n",
    "import numpy as np\n",
    "import matplotlib.pyplot as plt\n",
    "from sklearn.model_selection import *"
   ]
  },
  {
   "cell_type": "code",
   "execution_count": 14,
   "id": "3681a99d",
   "metadata": {},
   "outputs": [],
   "source": [
    "data = np.loadtxt('../Data/vardQ.csv',delimiter=',',skiprows=1) # skip row for column names"
   ]
  },
  {
   "cell_type": "code",
   "execution_count": 142,
   "id": "d492cfe8",
   "metadata": {},
   "outputs": [
    {
     "name": "stdout",
     "output_type": "stream",
     "text": [
      "43\n"
     ]
    }
   ],
   "source": [
    "test_ind = np.array([ 0,  2,  4,  6,  8, 10, 12, 14, 16, 18, 20, 22, 24, 26, 28, 30, 32,\n",
    "       34, 36, 38, 40, 42, 44, 46, 48, 50, 52, 54, 56, 58, 60, 62, 64, 66,\n",
    "       68, 70, 72, 74, 76, 78, 80, 82, 83])\n",
    "\n",
    "train_ind = np.array([ 1,  3,  5,  7,  9, 11, 13, 15, 17, 19, 21, 23, 25, 27, 29, 31, 33,\n",
    "       35, 37, 39, 41, 43, 45, 47, 49, 51, 53, 55, 57, 59, 61, 63, 65, 67,\n",
    "       69, 71, 73, 75, 77, 79, 81])\n",
    "\n",
    "secondary_ind = np.array([ 84,  85,  86,  87,  88,  89,  90,  91,  92,  93,  94,  95,  96,\n",
    "        97,  98,  99, 100, 101, 102, 103, 104, 105, 106, 107, 108, 109,\n",
    "       110, 111, 112, 113, 114, 115, 116, 117, 118, 119, 120, 121, 122,\n",
    "       123])"
   ]
  },
  {
   "cell_type": "code",
   "execution_count": 131,
   "id": "d9b4c8b3",
   "metadata": {},
   "outputs": [],
   "source": [
    "x_train = data[:, 0][train_ind]\n",
    "y_train = data[:, 1][train_ind]\n",
    "\n",
    "x_test = data[:, 0][test_ind]\n",
    "y_test = data[:, 1][test_ind]\n",
    "\n",
    "x_stest = data[:, 0][secondary_ind]\n",
    "y_stest = data[:, 1][secondary_ind]\n",
    "\n",
    "regressor = SVR()\n",
    "# regressor.fit(x_train.reshape(-1, 1),y_train)"
   ]
  },
  {
   "cell_type": "code",
   "execution_count": 135,
   "id": "bd65f197",
   "metadata": {},
   "outputs": [
    {
     "name": "stdout",
     "output_type": "stream",
     "text": [
      "[3.33 3.16 3.03 2.94 2.9  2.86 2.93 2.9  2.75 3.01 2.94 2.93 2.85 2.86\n",
      " 2.87 2.85 2.79 2.98 2.85 2.79 2.48 2.64 2.65 2.71 2.68 2.68 2.69 2.66\n",
      " 2.69 2.72 2.66 2.67 2.7  2.69 2.72 2.67 2.68 2.66 2.63 2.66 2.69]\n",
      "RandomizedSearchCV(cv=KFold(n_splits=3, random_state=42, shuffle=True),\n",
      "                   estimator=SVR(), n_iter=10000, n_jobs=-1,\n",
      "                   param_distributions={'C': array([ 10.        ,  10.49049049,  10.98098098,  11.47147147,\n",
      "        11.96196196,  12.45245245,  12.94294294,  13.43343343,\n",
      "        13.92392392,  14.41441441,  14.9049049 ,  15.3953954 ,\n",
      "        15.88588589,  16.37637638,  16.86686687,  17.35735736,\n",
      "        17.84784785,  18.33833834,  18.8...\n",
      "       9.84986486e-01, 9.85987387e-01, 9.86988288e-01, 9.87989189e-01,\n",
      "       9.88990090e-01, 9.89990991e-01, 9.90991892e-01, 9.91992793e-01,\n",
      "       9.92993694e-01, 9.93994595e-01, 9.94995495e-01, 9.95996396e-01,\n",
      "       9.96997297e-01, 9.97998198e-01, 9.98999099e-01, 1.00000000e+00]),\n",
      "                                        'kernel': ['linear', 'rbf', 'sigmoid']},\n",
      "                   random_state=42, return_train_score=True,\n",
      "                   scoring='neg_mean_squared_error', verbose=2)\n",
      "Fitting 3 folds for each of 10000 candidates, totalling 30000 fits\n"
     ]
    },
    {
     "data": {
      "text/plain": [
       "RandomizedSearchCV(cv=KFold(n_splits=3, random_state=42, shuffle=True),\n",
       "                   estimator=SVR(), n_iter=10000, n_jobs=-1,\n",
       "                   param_distributions={'C': array([ 10.        ,  10.49049049,  10.98098098,  11.47147147,\n",
       "        11.96196196,  12.45245245,  12.94294294,  13.43343343,\n",
       "        13.92392392,  14.41441441,  14.9049049 ,  15.3953954 ,\n",
       "        15.88588589,  16.37637638,  16.86686687,  17.35735736,\n",
       "        17.84784785,  18.33833834,  18.8...\n",
       "       9.84986486e-01, 9.85987387e-01, 9.86988288e-01, 9.87989189e-01,\n",
       "       9.88990090e-01, 9.89990991e-01, 9.90991892e-01, 9.91992793e-01,\n",
       "       9.92993694e-01, 9.93994595e-01, 9.94995495e-01, 9.95996396e-01,\n",
       "       9.96997297e-01, 9.97998198e-01, 9.98999099e-01, 1.00000000e+00]),\n",
       "                                        'kernel': ['linear', 'rbf', 'sigmoid']},\n",
       "                   random_state=42, return_train_score=True,\n",
       "                   scoring='neg_mean_squared_error', verbose=2)"
      ]
     },
     "execution_count": 135,
     "metadata": {},
     "output_type": "execute_result"
    }
   ],
   "source": [
    "# Create the random grid\n",
    "param_grid = {'C': np.linspace(10,500,1000), \n",
    "              'kernel': ['linear','rbf', 'sigmoid'],\n",
    "              'gamma': np.linspace(0.0001,1,1000),\n",
    "              'epsilon':np.linspace(0.0001,1,1000)} \n",
    "print(y_train)\n",
    "folds = KFold(n_splits = 3, shuffle = True, random_state = 42)\n",
    "model= RandomizedSearchCV(estimator= regressor, n_iter = 10000, cv=folds, param_distributions = param_grid ,scoring=\"neg_mean_squared_error\", random_state=42,verbose=2, return_train_score=True, n_jobs = -1)\n",
    "print(model)\n",
    "model.fit(x_train.reshape(-1, 1),y_train)"
   ]
  },
  {
   "cell_type": "code",
   "execution_count": 136,
   "id": "1ed2bc35",
   "metadata": {},
   "outputs": [
    {
     "data": {
      "text/plain": [
       "[<matplotlib.lines.Line2D at 0x7fb7c37e5430>]"
      ]
     },
     "execution_count": 136,
     "metadata": {},
     "output_type": "execute_result"
    },
    {
     "data": {
      "image/png": "[encoded data removed]",
      "text/plain": [
       "<Figure size 432x288 with 1 Axes>"
      ]
     },
     "metadata": {
      "needs_background": "light"
     },
     "output_type": "display_data"
    }
   ],
   "source": [
    "plt.scatter(x_train,y_train)\n",
    "plt.plot(x_train, model.predict(x_train.reshape(-1,1)))"
   ]
  },
  {
   "cell_type": "code",
   "execution_count": 137,
   "id": "b329c8c5",
   "metadata": {},
   "outputs": [
    {
     "name": "stdout",
     "output_type": "stream",
     "text": [
      "Best RMS score:  -0.006329741720261547\n",
      "Best hyperparameters:  {'kernel': 'rbf', 'gamma': 0.19727747747747745, 'epsilon': 0.1432288288288288, 'C': 228.26826826826826}\n"
     ]
    }
   ],
   "source": [
    "print(\"Best RMS score: \", model.best_score_)\n",
    "print(\"Best hyperparameters: \", model.best_params_)"
   ]
  },
  {
   "cell_type": "code",
   "execution_count": 138,
   "id": "33f94343",
   "metadata": {},
   "outputs": [
    {
     "data": {
      "text/plain": [
       "SVR(C=228.26826826826826, epsilon=0.1432288288288288, gamma=0.19727747747747745)"
      ]
     },
     "execution_count": 138,
     "metadata": {},
     "output_type": "execute_result"
    }
   ],
   "source": [
    "regressor = SVR(kernel='rbf',epsilon=0.1432288288288288, gamma = 0.19727747747747745, C=228.26826826826826)\n",
    "regressor.fit(x_train.reshape(-1, 1),y_train)"
   ]
  },
  {
   "cell_type": "code",
   "execution_count": 139,
   "id": "8b1702ea",
   "metadata": {},
   "outputs": [
    {
     "data": {
      "text/plain": [
       "[<matplotlib.lines.Line2D at 0x7fb7c4052190>]"
      ]
     },
     "execution_count": 139,
     "metadata": {},
     "output_type": "execute_result"
    },
    {
     "data": {
      "image/png": "[encoded data removed]",
      "text/plain": [
       "<Figure size 432x288 with 1 Axes>"
      ]
     },
     "metadata": {
      "needs_background": "light"
     },
     "output_type": "display_data"
    }
   ],
   "source": [
    "plt.scatter(x_test,y_test)\n",
    "plt.plot(x_test, model.predict(x_test.reshape(-1,1)))"
   ]
  },
  {
   "cell_type": "code",
   "execution_count": 140,
   "id": "3b68fd9e",
   "metadata": {},
   "outputs": [
    {
     "name": "stdout",
     "output_type": "stream",
     "text": [
      "RMSE:  139.13442617639151\n"
     ]
    }
   ],
   "source": [
    "print(\"RMSE: \", np.sqrt(np.average((10**regressor.predict(x_test.reshape(-1,1)) - 10**y_test)**2))) # 1 is the best score"
   ]
  },
  {
   "cell_type": "code",
   "execution_count": 141,
   "id": "0f6a8094",
   "metadata": {},
   "outputs": [
    {
     "name": "stdout",
     "output_type": "stream",
     "text": [
      "RMSE:  221.75999404982176\n"
     ]
    }
   ],
   "source": [
    "print(\"RMSE: \", np.sqrt(np.average((10**regressor.predict(x_stest.reshape(-1,1)) - 10**y_stest)**2))) # 1 is the best score"
   ]
  },
  {
   "cell_type": "code",
   "execution_count": null,
   "id": "5ad5f6dd",
   "metadata": {},
   "outputs": [],
   "source": []
  }
 ],
 "metadata": {
  "kernelspec": {
   "display_name": "Python 3",
   "language": "python",
   "name": "python3"
  },
  "language_info": {
   "codemirror_mode": {
    "name": "ipython",
    "version": 3
   },
   "file_extension": ".py",
   "mimetype": "text/x-python",
   "name": "python",
   "nbconvert_exporter": "python",
   "pygments_lexer": "ipython3",
   "version": "3.8.8"
  }
 },
 "nbformat": 4,
 "nbformat_minor": 5
}
